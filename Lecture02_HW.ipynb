{
 "cells": [
  {
   "cell_type": "markdown",
   "metadata": {},
   "source": [
    "# Задачи к Лекции 2\n",
    "\n",
    "__Исходные данные__ \n",
    "\n",
    "Дан файл **\"mlbootcamp5_train.csv\"**. В нем содержатся данные об опросе 70000 пациентов с целью определения наличия заболеваний сердечно-сосудистой системы (ССЗ). Данные в файле промаркированы и если у человека имееются ССЗ, то значение **cardio** будет равно 1, в противном случае - 0. Описание и значения полей представлены во второй лекции.\n",
    "\n",
    "__Загрузка файла__"
   ]
  },
  {
   "cell_type": "code",
   "execution_count": 5,
   "metadata": {},
   "outputs": [
    {
     "data": {
      "text/html": [
       "<div>\n",
       "<style scoped>\n",
       "    .dataframe tbody tr th:only-of-type {\n",
       "        vertical-align: middle;\n",
       "    }\n",
       "\n",
       "    .dataframe tbody tr th {\n",
       "        vertical-align: top;\n",
       "    }\n",
       "\n",
       "    .dataframe thead th {\n",
       "        text-align: right;\n",
       "    }\n",
       "</style>\n",
       "<table border=\"1\" class=\"dataframe\">\n",
       "  <thead>\n",
       "    <tr style=\"text-align: right;\">\n",
       "      <th></th>\n",
       "      <th>age</th>\n",
       "      <th>gender</th>\n",
       "      <th>height</th>\n",
       "      <th>weight</th>\n",
       "      <th>ap_hi</th>\n",
       "      <th>ap_lo</th>\n",
       "      <th>cholesterol</th>\n",
       "      <th>gluc</th>\n",
       "      <th>smoke</th>\n",
       "      <th>alco</th>\n",
       "      <th>active</th>\n",
       "      <th>cardio</th>\n",
       "    </tr>\n",
       "    <tr>\n",
       "      <th>id</th>\n",
       "      <th></th>\n",
       "      <th></th>\n",
       "      <th></th>\n",
       "      <th></th>\n",
       "      <th></th>\n",
       "      <th></th>\n",
       "      <th></th>\n",
       "      <th></th>\n",
       "      <th></th>\n",
       "      <th></th>\n",
       "      <th></th>\n",
       "      <th></th>\n",
       "    </tr>\n",
       "  </thead>\n",
       "  <tbody>\n",
       "    <tr>\n",
       "      <th>0</th>\n",
       "      <td>18393</td>\n",
       "      <td>2</td>\n",
       "      <td>168</td>\n",
       "      <td>62.0</td>\n",
       "      <td>110</td>\n",
       "      <td>80</td>\n",
       "      <td>1</td>\n",
       "      <td>1</td>\n",
       "      <td>0</td>\n",
       "      <td>0</td>\n",
       "      <td>1</td>\n",
       "      <td>0</td>\n",
       "    </tr>\n",
       "    <tr>\n",
       "      <th>1</th>\n",
       "      <td>20228</td>\n",
       "      <td>1</td>\n",
       "      <td>156</td>\n",
       "      <td>85.0</td>\n",
       "      <td>140</td>\n",
       "      <td>90</td>\n",
       "      <td>3</td>\n",
       "      <td>1</td>\n",
       "      <td>0</td>\n",
       "      <td>0</td>\n",
       "      <td>1</td>\n",
       "      <td>1</td>\n",
       "    </tr>\n",
       "    <tr>\n",
       "      <th>2</th>\n",
       "      <td>18857</td>\n",
       "      <td>1</td>\n",
       "      <td>165</td>\n",
       "      <td>64.0</td>\n",
       "      <td>130</td>\n",
       "      <td>70</td>\n",
       "      <td>3</td>\n",
       "      <td>1</td>\n",
       "      <td>0</td>\n",
       "      <td>0</td>\n",
       "      <td>0</td>\n",
       "      <td>1</td>\n",
       "    </tr>\n",
       "    <tr>\n",
       "      <th>3</th>\n",
       "      <td>17623</td>\n",
       "      <td>2</td>\n",
       "      <td>169</td>\n",
       "      <td>82.0</td>\n",
       "      <td>150</td>\n",
       "      <td>100</td>\n",
       "      <td>1</td>\n",
       "      <td>1</td>\n",
       "      <td>0</td>\n",
       "      <td>0</td>\n",
       "      <td>1</td>\n",
       "      <td>1</td>\n",
       "    </tr>\n",
       "    <tr>\n",
       "      <th>4</th>\n",
       "      <td>17474</td>\n",
       "      <td>1</td>\n",
       "      <td>156</td>\n",
       "      <td>56.0</td>\n",
       "      <td>100</td>\n",
       "      <td>60</td>\n",
       "      <td>1</td>\n",
       "      <td>1</td>\n",
       "      <td>0</td>\n",
       "      <td>0</td>\n",
       "      <td>0</td>\n",
       "      <td>0</td>\n",
       "    </tr>\n",
       "  </tbody>\n",
       "</table>\n",
       "</div>"
      ],
      "text/plain": [
       "      age  gender  height  weight  ap_hi  ap_lo  cholesterol  gluc  smoke  \\\n",
       "id                                                                          \n",
       "0   18393       2     168    62.0    110     80            1     1      0   \n",
       "1   20228       1     156    85.0    140     90            3     1      0   \n",
       "2   18857       1     165    64.0    130     70            3     1      0   \n",
       "3   17623       2     169    82.0    150    100            1     1      0   \n",
       "4   17474       1     156    56.0    100     60            1     1      0   \n",
       "\n",
       "    alco  active  cardio  \n",
       "id                        \n",
       "0      0       1       0  \n",
       "1      0       1       1  \n",
       "2      0       0       1  \n",
       "3      0       1       1  \n",
       "4      0       0       0  "
      ]
     },
     "execution_count": 5,
     "metadata": {},
     "output_type": "execute_result"
    }
   ],
   "source": [
    "%matplotlib inline\n",
    "import numpy as np\n",
    "import pandas as pd\n",
    "import seaborn as sns\n",
    "import sklearn\n",
    "from matplotlib import pyplot as plt\n",
    "import warnings\n",
    "from sklearn.naive_bayes import GaussianNB, BernoulliNB\n",
    "from sklearn.metrics import confusion_matrix, ConfusionMatrixDisplay\n",
    "from sklearn.model_selection import train_test_split\n",
    "warnings.filterwarnings('ignore')\n",
    "\n",
    "df = pd.read_csv(\"mlbootcamp5_train.csv\", \n",
    "                 sep=\";\", \n",
    "                 index_col=\"id\")\n",
    "df.head()"
   ]
  },
  {
   "cell_type": "markdown",
   "metadata": {},
   "source": [
    "## Задачи"
   ]
  },
  {
   "cell_type": "markdown",
   "metadata": {},
   "source": [
    "**1. Построить наивный байесовский классификатор для количественных полей age, height, weight, ap_hi, ap_lo. Исправить данные, если это необходимо. Привести матрицу неточностей и сравнить со значением полученным в ходе лекции. Попытаться объяснить разницу.**"
   ]
  },
  {
   "cell_type": "code",
   "execution_count": 7,
   "metadata": {},
   "outputs": [
    {
     "name": "stdout",
     "output_type": "stream",
     "text": [
      "Минимальные значения давления: 12 -150\n",
      "Матрица неточностей (GaussianNB на количественных признаках):\n",
      "[[9447 1059]\n",
      " [6954 3540]]\n"
     ]
    },
    {
     "data": {
      "image/png": "[encoded data removed]",
      "text/plain": [
       "<Figure size 432x288 with 2 Axes>"
      ]
     },
     "metadata": {
      "needs_background": "light"
     },
     "output_type": "display_data"
    }
   ],
   "source": [
    "quant_features = ['age', 'height', 'weight', 'ap_hi', 'ap_lo']\n",
    "# Проверка\n",
    "print(\"Минимальные значения давления:\", df['ap_hi'].min(), df['ap_lo'].min())\n",
    "\n",
    "# Исправляем случаи, где ap_lo > ap_hi\n",
    "mask = df['ap_lo'] > df['ap_hi']\n",
    "df.loc[mask, ['ap_hi', 'ap_lo']] = df.loc[mask, ['ap_lo', 'ap_hi']].values\n",
    "\n",
    "#Данные на трэйн и тест\n",
    "X_quant = df[quant_features]\n",
    "y = df['cardio']\n",
    "Xq_train, Xq_test, y_train, y_test = train_test_split(X_quant, y, test_size=0.3, random_state=42, stratify=y)\n",
    "\n",
    "#Обучаем GaussianNB\n",
    "gnb = GaussianNB()\n",
    "gnb.fit(Xq_train, y_train)\n",
    "y_pred_gnb = gnb.predict(Xq_test)\n",
    "\n",
    "#Матрица неточностей\n",
    "cm_gnb = confusion_matrix(y_test, y_pred_gnb)\n",
    "print(\"Матрица неточностей (GaussianNB на количественных признаках):\")\n",
    "print(cm_gnb)\n",
    "disp = ConfusionMatrixDisplay(confusion_matrix=cm_gnb)\n",
    "disp.plot()\n",
    "plt.show()\n",
    "\n",
    "\n",
    "categorical_features = ['cholesterol', 'gluc']\n",
    "X_cat = df[categorical_features]\n",
    "\n",
    "#разделяем трэйн тест\n",
    "Xc_train, Xc_test, _, _ = train_test_split(X_cat, y, test_size=0.3, random_state=42, stratify=y)"
   ]
  },
  {
   "cell_type": "markdown",
   "metadata": {},
   "source": [
    "**Комментарии:** Ваши комментарии здесь."
   ]
  },
  {
   "cell_type": "markdown",
   "metadata": {},
   "source": [
    "**2. Написать свой наивный байесовский классификатор для категориальных полей cholesterol, gluc. Привести матрицу неточностей и сравнить со значениями из задачи 1 (нельзя использовать готовое решение из sklearn) (не обязательно)**"
   ]
  },
  {
   "cell_type": "code",
   "execution_count": 8,
   "metadata": {},
   "outputs": [
    {
     "name": "stdout",
     "output_type": "stream",
     "text": [
      "Матрица неточностей (свой NB на категориальных признаках):\n",
      "[[8232 2274]\n",
      " [6364 4130]]\n"
     ]
    },
    {
     "data": {
      "image/png": "[encoded data removed]",
      "text/plain": [
       "<Figure size 432x288 with 2 Axes>"
      ]
     },
     "metadata": {
      "needs_background": "light"
     },
     "output_type": "display_data"
    }
   ],
   "source": [
    "class CategoricalNBCustom:\n",
    "    def fit(self, X, y):\n",
    "        self.classes = np.unique(y)\n",
    "        self.feature_probs = {}\n",
    "        self.class_priors = {}\n",
    "        for c in self.classes:\n",
    "            X_c = X[y == c]\n",
    "            self.class_priors[c] = len(X_c) / len(X)\n",
    "            self.feature_probs[c] = {}\n",
    "            for col in X.columns:\n",
    "                counts = X_c[col].value_counts()\n",
    "                total = len(X_c)\n",
    "\n",
    "                vals = X[col].unique()\n",
    "                probs = {}\n",
    "                for v in vals:\n",
    "                    probs[v] = (counts.get(v,0) + 1) / (total + len(vals))\n",
    "                self.feature_probs[c][col] = probs\n",
    "\n",
    "    def predict(self, X):\n",
    "        y_pred = []\n",
    "        for _, row in X.iterrows():\n",
    "            class_probs = {}\n",
    "            for c in self.classes:\n",
    "                prob = self.class_priors[c]\n",
    "                for col in X.columns:\n",
    "                    val = row[col]\n",
    "                    prob *= self.feature_probs[c][col].get(val, 1e-6)\n",
    "                class_probs[c] = prob\n",
    "            y_pred.append(max(class_probs, key=class_probs.get))\n",
    "        return np.array(y_pred)\n",
    "\n",
    "#Обучаем предсказываем\n",
    "cat_nb = CategoricalNBCustom()\n",
    "cat_nb.fit(Xc_train, y_train)\n",
    "y_pred_cat = cat_nb.predict(Xc_test)\n",
    "\n",
    "cm_cat = confusion_matrix(y_test, y_pred_cat)\n",
    "print(\"Матрица неточностей (свой NB на категориальных признаках):\")\n",
    "print(cm_cat)\n",
    "disp = ConfusionMatrixDisplay(confusion_matrix=cm_cat)\n",
    "disp.plot()\n",
    "plt.show()"
   ]
  },
  {
   "cell_type": "markdown",
   "metadata": {},
   "source": [
    "**Комментарии:** Ваши комментарии здесь."
   ]
  },
  {
   "cell_type": "markdown",
   "metadata": {},
   "source": [
    "**3. Построить наивный байесовский классификатор для бинарных полей gender, smoke, alco, active. Привести матрицу неточностей и сравнить с предыдущими значениями.**"
   ]
  },
  {
   "cell_type": "code",
   "execution_count": 14,
   "metadata": {},
   "outputs": [
    {
     "name": "stdout",
     "output_type": "stream",
     "text": [
      "Матрица неточностей (BernoulliNB на бинарных признаках):\n",
      "[[8641 1865]\n",
      " [8278 2216]]\n"
     ]
    },
    {
     "data": {
      "image/png": "[encoded data removed]",
      "text/plain": [
       "<Figure size 432x288 with 2 Axes>"
      ]
     },
     "metadata": {
      "needs_background": "light"
     },
     "output_type": "display_data"
    }
   ],
   "source": [
    "binary_features = ['gender', 'smoke', 'alco', 'active']\n",
    "X_bin = df[binary_features]\n",
    "Xb_train, Xb_test, _, _ = train_test_split(X_bin, y, test_size=0.3, random_state=42, stratify=y)\n",
    "\n",
    "# Используем BernoulliNB из sklearn\n",
    "bnb = BernoulliNB()\n",
    "bnb.fit(Xb_train, y_train)\n",
    "y_pred_bnb = bnb.predict(Xb_test)\n",
    "\n",
    "cm_bnb = confusion_matrix(y_test, y_pred_bnb)\n",
    "print(\"Матрица неточностей (BernoulliNB на бинарных признаках):\")\n",
    "print(cm_bnb)\n",
    "disp = ConfusionMatrixDisplay(confusion_matrix=cm_bnb)\n",
    "disp.plot()\n",
    "plt.show()\n",
    "\n",
    "\n",
    "\n"
   ]
  },
  {
   "cell_type": "markdown",
   "metadata": {},
   "source": [
    "**Комментарии:** Ваши комментарии здесь."
   ]
  },
  {
   "cell_type": "markdown",
   "metadata": {},
   "source": [
    "**4. К этому моменту у вас есть три независимых классификатора: по количественным полям, категориальным и бинарным. Придумать, как их объединить в один единый классификатор, который учитывает все эти поля. Привести матрицу неточностей для него и сравнить с предыдущими значениями. Попытаться объяснить разницу.**"
   ]
  },
  {
   "cell_type": "code",
   "execution_count": 15,
   "metadata": {},
   "outputs": [
    {
     "name": "stdout",
     "output_type": "stream",
     "text": [
      "Матрица неточностей (объединенный классификатор):\n",
      "[[9166 1340]\n",
      " [6314 4180]]\n"
     ]
    },
    {
     "data": {
      "image/png": "[encoded data removed]",
      "text/plain": [
       "<Figure size 432x288 with 2 Axes>"
      ]
     },
     "metadata": {
      "needs_background": "light"
     },
     "output_type": "display_data"
    },
    {
     "name": "stdout",
     "output_type": "stream",
     "text": [
      "Accuracy GaussianNB (количественные): 0.6184\n",
      "Accuracy свой NB (категориальные): 0.5887\n",
      "Accuracy BernoulliNB (бинарные): 0.5170\n",
      "Accuracy объединенный классификатор: 0.6355\n"
     ]
    }
   ],
   "source": [
    "# Для каждого классификатора получим вероятности классов для теста\n",
    "y_proba_gnb = gnb.predict_proba(Xq_test)\n",
    "y_proba_cat = []\n",
    "for _, row in Xc_test.iterrows():\n",
    "    class_probs = []\n",
    "    for c in cat_nb.classes:\n",
    "        prob = cat_nb.class_priors[c]\n",
    "        for col in Xc_test.columns:\n",
    "            val = row[col]\n",
    "            prob *= cat_nb.feature_probs[c][col].get(val, 1e-6)\n",
    "        class_probs.append(prob)\n",
    "    # Нормализация вероятностей\n",
    "    s = sum(class_probs)\n",
    "    class_probs = [p/s if s>0 else 0 for p in class_probs]\n",
    "    y_proba_cat.append(class_probs)\n",
    "y_proba_cat = np.array(y_proba_cat)\n",
    "\n",
    "y_proba_bnb = bnb.predict_proba(Xb_test)\n",
    "\n",
    "# Объединяем вероятности\n",
    "y_proba_combined = (y_proba_gnb + y_proba_cat + y_proba_bnb) / 3\n",
    "\n",
    "# Предсказания объединенного классификатора\n",
    "y_pred_combined = np.argmax(y_proba_combined, axis=1)\n",
    "\n",
    "cm_combined = confusion_matrix(y_test, y_pred_combined)\n",
    "print(\"Матрица неточностей (объединенный классификатор):\")\n",
    "print(cm_combined)\n",
    "disp = ConfusionMatrixDisplay(confusion_matrix=cm_combined)\n",
    "disp.plot()\n",
    "plt.show()\n",
    "from sklearn.metrics import accuracy_score\n",
    "\n",
    "acc_gnb = accuracy_score(y_test, y_pred_gnb)\n",
    "acc_cat = accuracy_score(y_test, y_pred_cat)\n",
    "acc_bnb = accuracy_score(y_test, y_pred_bnb)\n",
    "acc_combined = accuracy_score(y_test, y_pred_combined)\n",
    "\n",
    "print(f\"Accuracy GaussianNB (количественные): {acc_gnb:.4f}\")\n",
    "print(f\"Accuracy свой NB (категориальные): {acc_cat:.4f}\")\n",
    "print(f\"Accuracy BernoulliNB (бинарные): {acc_bnb:.4f}\")\n",
    "print(f\"Accuracy объединенный классификатор: {acc_combined:.4f}\")"
   ]
  },
  {
   "cell_type": "markdown",
   "metadata": {},
   "source": [
    "**Комментарии:** Ваши комментарии здесь."
   ]
  },
  {
   "cell_type": "markdown",
   "metadata": {},
   "source": [
    "**5. (Не обязательно) Теперь мы умеем делать классификацию в рамках наивного предположения об независимости всех признаков. Сейчас же нужно попробовать учесть взаимосвязь между признаками через условные вероятности. Построить классификатор с учетом такой связи. Сравнить результат с ранее полученными значениями.**"
   ]
  },
  {
   "cell_type": "code",
   "execution_count": 3,
   "metadata": {},
   "outputs": [],
   "source": []
  },
  {
   "cell_type": "markdown",
   "metadata": {},
   "source": [
    "**Комментарии:** Ваши комментарии здесь."
   ]
  },
  {
   "cell_type": "code",
   "execution_count": null,
   "metadata": {},
   "outputs": [],
   "source": []
  }
 ],
 "metadata": {
  "kernelspec": {
   "display_name": "Python 3 (ipykernel)",
   "language": "python",
   "name": "python3"
  },
  "language_info": {
   "codemirror_mode": {
    "name": "ipython",
    "version": 3
   },
   "file_extension": ".py",
   "mimetype": "text/x-python",
   "name": "python",
   "nbconvert_exporter": "python",
   "pygments_lexer": "ipython3",
   "version": "3.9.12"
  }
 },
 "nbformat": 4,
 "nbformat_minor": 4
}
